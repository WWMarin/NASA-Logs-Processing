{
 "cells": [
  {
   "cell_type": "markdown",
   "metadata": {},
   "source": [
    "## Processing NASA Logs  \n",
    "  \n",
    "This challenge was solved using Spark SQL to clean and wrangle the data and dataframes to answer the proposed questions.  \n",
    "  \n",
    "The challenge consists of answering the following questions:  \n",
    "  \n",
    "- Number of unique hosts  \n",
    "- Total 404 errors  \n",
    "- The 5 URLs that causes the most 404 errors  \n",
    "- Number of 404 errors for each day  \n",
    "- Total bytes returned  \n",
    "  \n",
    "Official dataset source https://ita.ee.lbl.gov/html/contrib/NASA-HTTP.html\n",
    "  \n",
    "### Data:  \n",
    "ftp://ita.ee.lbl.gov/traces/NASA_access_log_Jul95.gz  \n",
    "ftp://ita.ee.lbl.gov/traces/NASA_access_log_Aug95.gz  \n",
    "### About the dataset:  \n",
    "The dataset holds all the HTTP requests to the server at NASA'S Kennedy Space Center during July and August of 1995.  "
   ]
  },
  {
   "cell_type": "code",
   "execution_count": null,
   "metadata": {},
   "outputs": [],
   "source": []
  }
 ],
 "metadata": {
  "kernelspec": {
   "display_name": "Python 3",
   "language": "python",
   "name": "python3"
  },
  "language_info": {
   "codemirror_mode": {
    "name": "ipython",
    "version": 3
   },
   "file_extension": ".py",
   "mimetype": "text/x-python",
   "name": "python",
   "nbconvert_exporter": "python",
   "pygments_lexer": "ipython3",
   "version": "3.9.4"
  }
 },
 "nbformat": 4,
 "nbformat_minor": 4
}
