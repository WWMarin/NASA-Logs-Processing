{
 "cells": [
  {
   "cell_type": "markdown",
   "metadata": {},
   "source": [
    "# Processing NASA Logs  \n",
    "  \n",
    "This challenge was solved using Spark SQL to clean and wrangle the data and dataframes to answer the proposed questions.  \n",
    "  \n",
    "The challenge consists of answering the following questions:  \n",
    "  \n",
    "- Number of unique hosts  \n",
    "- Total 404 errors  \n",
    "- The 5 URLs that causes the most 404 errors  \n",
    "- Number of 404 errors for each day  \n",
    "- Total bytes returned  \n",
    "  \n",
    "Official dataset source:  \n",
    "https://ita.ee.lbl.gov/html/contrib/NASA-HTTP.html  \n",
    "  \n",
    "Data:  \n",
    "ftp://ita.ee.lbl.gov/traces/NASA_access_log_Jul95.gz  \n",
    "ftp://ita.ee.lbl.gov/traces/NASA_access_log_Aug95.gz  \n",
    "\n",
    "About the dataset:  \n",
    "The dataset holds all the HTTP requests to the server at NASA'S Kennedy Space Center during July and August of 1995.  "
   ]
  },
  {
   "cell_type": "markdown",
   "metadata": {},
   "source": [
    "## Data Preparation"
   ]
  },
  {
   "cell_type": "code",
   "execution_count": 1,
   "metadata": {},
   "outputs": [],
   "source": [
    "# Creating a Spark session\n",
    "from pyspark.sql import SparkSession\n",
    "\n",
    "spark = SparkSession.builder.appName('Processing NASA Logs').getOrCreate()"
   ]
  },
  {
   "cell_type": "code",
   "execution_count": 2,
   "metadata": {},
   "outputs": [],
   "source": [
    "# Reading files into a dataframe\n",
    "df = spark.read.csv('access_log_*')"
   ]
  },
  {
   "cell_type": "code",
   "execution_count": 3,
   "metadata": {},
   "outputs": [],
   "source": [
    "# Splitting each row into columns\n",
    "from pyspark.sql.functions import split\n",
    "\n",
    "split_col = split(df['_c0'], ' ')\n",
    "df = df.withColumn('host', split_col.getItem(0)) \\\n",
    "       .withColumn('rfc931', split_col.getItem(1)) \\\n",
    "       .withColumn('username', split_col.getItem(2)) \\\n",
    "       .withColumn('date:time', split_col.getItem(3)) \\\n",
    "       .withColumn('timezone', split_col.getItem(4)) \\\n",
    "       .withColumn('method', split_col.getItem(5)) \\\n",
    "       .withColumn('resource', split_col.getItem(6)) \\\n",
    "       .withColumn('protocol', split_col.getItem(7)) \\\n",
    "       .withColumn('statuscode', split_col.getItem(8)) \\\n",
    "       .withColumn('bytes', split_col.getItem(9))"
   ]
  },
  {
   "cell_type": "code",
   "execution_count": 4,
   "metadata": {},
   "outputs": [],
   "source": [
    "# Merging appropriate columns\n",
    "from pyspark.sql.functions import col, concat, lit\n",
    "\n",
    "df = df.withColumn('date:time timezone', concat(col('date:time'), lit(' '), col('timezone')))\n",
    "df = df.withColumn('request', concat(col('method'), lit(' '), col('resource'), lit(' '), col('protocol')))"
   ]
  },
  {
   "cell_type": "code",
   "execution_count": 5,
   "metadata": {},
   "outputs": [],
   "source": [
    "# Dropping redundant columns\n",
    "df = df.drop('_c0', 'date:time', 'timezone', 'method', 'resource', 'protocol')"
   ]
  },
  {
   "cell_type": "code",
   "execution_count": 6,
   "metadata": {},
   "outputs": [],
   "source": [
    "# Reordering the dataframe\n",
    "df = df.select('host', 'rfc931', 'username', 'date:time timezone', 'request', 'statuscode', 'bytes')"
   ]
  },
  {
   "cell_type": "code",
   "execution_count": 7,
   "metadata": {},
   "outputs": [],
   "source": [
    "# Cleaning request and date:time timezone columns\n",
    "from pyspark.sql.functions import expr, substring\n",
    "\n",
    "df = df.withColumn('request', expr('substring(request, 2, length(request)-2)'))\n",
    "df = df.withColumn('date:time timezone', substring(col('date:time timezone'), 2, 26))"
   ]
  },
  {
   "cell_type": "code",
   "execution_count": 8,
   "metadata": {},
   "outputs": [],
   "source": [
    "# Casting date:time timezone as TimeStamp and bytes as Int\n",
    "from pyspark.sql.functions import to_timestamp\n",
    "\n",
    "df = df.withColumn('date:time timezone', to_timestamp(col('date:time timezone'), 'dd/MMM/yyyy:HH:mm:ss Z'))\n",
    "df = df.withColumn('bytes', col('bytes').cast('int'))"
   ]
  },
  {
   "cell_type": "code",
   "execution_count": 9,
   "metadata": {},
   "outputs": [
    {
     "name": "stdout",
     "output_type": "stream",
     "text": [
      "+---------------------------+------+--------+-------------------+----------------------------------------------------------------+----------+-----+\n",
      "|host                       |rfc931|username|date:time timezone |request                                                         |statuscode|bytes|\n",
      "+---------------------------+------+--------+-------------------+----------------------------------------------------------------+----------+-----+\n",
      "|in24.inetnebr.com          |-     |-       |1995-08-01 01:00:01|GET /shuttle/missions/sts-68/news/sts-68-mcc-05.txt HTTP/1.0    |200       |1839 |\n",
      "|uplherc.upl.com            |-     |-       |1995-08-01 01:00:07|GET / HTTP/1.0                                                  |304       |0    |\n",
      "|uplherc.upl.com            |-     |-       |1995-08-01 01:00:08|GET /images/ksclogo-medium.gif HTTP/1.0                         |304       |0    |\n",
      "|uplherc.upl.com            |-     |-       |1995-08-01 01:00:08|GET /images/MOSAIC-logosmall.gif HTTP/1.0                       |304       |0    |\n",
      "|uplherc.upl.com            |-     |-       |1995-08-01 01:00:08|GET /images/USA-logosmall.gif HTTP/1.0                          |304       |0    |\n",
      "|ix-esc-ca2-07.ix.netcom.com|-     |-       |1995-08-01 01:00:09|GET /images/launch-logo.gif HTTP/1.0                            |200       |1713 |\n",
      "|uplherc.upl.com            |-     |-       |1995-08-01 01:00:10|GET /images/WORLD-logosmall.gif HTTP/1.0                        |304       |0    |\n",
      "|slppp6.intermind.net       |-     |-       |1995-08-01 01:00:10|GET /history/skylab/skylab.html HTTP/1.0                        |200       |1687 |\n",
      "|piweba4y.prodigy.com       |-     |-       |1995-08-01 01:00:10|GET /images/launchmedium.gif HTTP/1.0                           |200       |11853|\n",
      "|slppp6.intermind.net       |-     |-       |1995-08-01 01:00:11|GET /history/skylab/skylab-small.gif HTTP/1.0                   |200       |9202 |\n",
      "|slppp6.intermind.net       |-     |-       |1995-08-01 01:00:12|GET /images/ksclogosmall.gif HTTP/1.0                           |200       |3635 |\n",
      "|ix-esc-ca2-07.ix.netcom.com|-     |-       |1995-08-01 01:00:12|GET /history/apollo/images/apollo-logo1.gif HTTP/1.0            |200       |1173 |\n",
      "|slppp6.intermind.net       |-     |-       |1995-08-01 01:00:13|GET /history/apollo/images/apollo-logo.gif HTTP/1.0             |200       |3047 |\n",
      "|uplherc.upl.com            |-     |-       |1995-08-01 01:00:14|GET /images/NASA-logosmall.gif HTTP/1.0                         |304       |0    |\n",
      "|133.43.96.45               |-     |-       |1995-08-01 01:00:16|GET /shuttle/missions/sts-69/mission-sts-69.html HTTP/1.0       |200       |10566|\n",
      "|kgtyk4.kj.yamagata-u.ac.jp |-     |-       |1995-08-01 01:00:17|GET / HTTP/1.0                                                  |200       |7280 |\n",
      "|kgtyk4.kj.yamagata-u.ac.jp |-     |-       |1995-08-01 01:00:18|GET /images/ksclogo-medium.gif HTTP/1.0                         |200       |5866 |\n",
      "|d0ucr6.fnal.gov            |-     |-       |1995-08-01 01:00:19|GET /history/apollo/apollo-16/apollo-16.html HTTP/1.0           |200       |2743 |\n",
      "|ix-esc-ca2-07.ix.netcom.com|-     |-       |1995-08-01 01:00:19|GET /shuttle/resources/orbiters/discovery.html HTTP/1.0         |200       |6849 |\n",
      "|d0ucr6.fnal.gov            |-     |-       |1995-08-01 01:00:20|GET /history/apollo/apollo-16/apollo-16-patch-small.gif HTTP/1.0|200       |14897|\n",
      "+---------------------------+------+--------+-------------------+----------------------------------------------------------------+----------+-----+\n",
      "only showing top 20 rows\n",
      "\n",
      "root\n",
      " |-- host: string (nullable = true)\n",
      " |-- rfc931: string (nullable = true)\n",
      " |-- username: string (nullable = true)\n",
      " |-- date:time timezone: timestamp (nullable = true)\n",
      " |-- request: string (nullable = true)\n",
      " |-- statuscode: string (nullable = true)\n",
      " |-- bytes: integer (nullable = true)\n",
      "\n"
     ]
    }
   ],
   "source": [
    "# Visualizing dataframe\n",
    "df.show(truncate = False) \n",
    "df.printSchema()"
   ]
  },
  {
   "cell_type": "markdown",
   "metadata": {},
   "source": [
    "## Number of unique hosts"
   ]
  },
  {
   "cell_type": "code",
   "execution_count": null,
   "metadata": {},
   "outputs": [],
   "source": []
  },
  {
   "cell_type": "markdown",
   "metadata": {},
   "source": [
    "## Total 404 errors"
   ]
  },
  {
   "cell_type": "code",
   "execution_count": null,
   "metadata": {},
   "outputs": [],
   "source": []
  },
  {
   "cell_type": "markdown",
   "metadata": {},
   "source": [
    "## The 5 URLs that causes the most 404 errors"
   ]
  },
  {
   "cell_type": "code",
   "execution_count": null,
   "metadata": {},
   "outputs": [],
   "source": []
  },
  {
   "cell_type": "markdown",
   "metadata": {},
   "source": [
    "## Number of 404 errors for each day"
   ]
  },
  {
   "cell_type": "code",
   "execution_count": null,
   "metadata": {},
   "outputs": [],
   "source": []
  },
  {
   "cell_type": "markdown",
   "metadata": {},
   "source": [
    "## Total bytes returned"
   ]
  },
  {
   "cell_type": "code",
   "execution_count": null,
   "metadata": {},
   "outputs": [],
   "source": []
  }
 ],
 "metadata": {
  "kernelspec": {
   "display_name": "Python 3",
   "language": "python",
   "name": "python3"
  },
  "language_info": {
   "codemirror_mode": {
    "name": "ipython",
    "version": 3
   },
   "file_extension": ".py",
   "mimetype": "text/x-python",
   "name": "python",
   "nbconvert_exporter": "python",
   "pygments_lexer": "ipython3",
   "version": "3.9.4"
  }
 },
 "nbformat": 4,
 "nbformat_minor": 4
}
